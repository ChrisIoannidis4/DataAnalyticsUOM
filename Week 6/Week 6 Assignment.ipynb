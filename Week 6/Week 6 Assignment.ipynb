{
 "cells": [
  {
   "cell_type": "markdown",
   "metadata": {},
   "source": [
    "## Part 1 - Data Preparation and Exploration "
   ]
  },
  {
   "cell_type": "code",
   "execution_count": null,
   "metadata": {},
   "outputs": [],
   "source": [
    "%%capture\n",
    "# Due to the configuration of the base Jupter image, the following imports are required for the regressions in the assignment to report the correct metrics\n",
    "\n",
    "import sys \n",
    "!{sys.executable} -m pip uninstall statsmodels --yes \n",
    "!{sys.executable} -m pip uninstall numpy --yes\n",
    "!{sys.executable} -m pip uninstall pandas --yes \n",
    "!{sys.executable} -m pip uninstall patsy --yes \n",
    "!{sys.executable} -m pip install numpy==1.17\n",
    "!{sys.executable} -m pip install pandas==1.0\n",
    "!{sys.executable} -m pip install patsy==0.5.2\n",
    "!{sys.executable} -m pip install statsmodels==0.11.1"
   ]
  },
  {
   "cell_type": "code",
   "execution_count": null,
   "metadata": {},
   "outputs": [],
   "source": [
    "#Import Libraries\n",
    "\n",
    "import pandas as pd\n",
    "import datetime as dt\n",
    "import scipy.stats as sp\n",
    "import numpy as np\n",
    "pd.reset_option(\"all\")\n",
    "import statsmodels.formula.api as sm "
   ]
  },
  {
   "cell_type": "code",
   "execution_count": null,
   "metadata": {},
   "outputs": [],
   "source": [
    "# Import Shotlog_14_15 and Player_Stats Datasets\n",
    "\n",
    "Shotlog_1415=pd.read_csv(\"Assignment Data/Week 6/Shotlog_14_15.csv\")\n",
    "Player_Stats=pd.read_csv(\"Assignment Data/Week 6/Player_Stats_14_15.csv\")\n",
    "display(Shotlog_1415)\n",
    "Shotlog_1415['game_id'].nunique()"
   ]
  },
  {
   "cell_type": "code",
   "execution_count": null,
   "metadata": {},
   "outputs": [],
   "source": [
    "Shotlog_1415['current_shot_outcome']\n",
    "Shotlog_1415['current_shot_outcome']=np.where(Shotlog_1415['current_shot_outcome']=='made', 1, 0)\n",
    "Shotlog_1415.info()"
   ]
  },
  {
   "cell_type": "code",
   "execution_count": null,
   "metadata": {},
   "outputs": [],
   "source": [
    "import datetime as dt\n",
    "Shotlog_1415['date']=pd.to_datetime(Shotlog_1415['date'])\n",
    "Shotlog_1415['date'].head(10)"
   ]
  },
  {
   "cell_type": "code",
   "execution_count": null,
   "metadata": {},
   "outputs": [],
   "source": [
    "Shotlog_1415[\"game_clock\"].head()"
   ]
  },
  {
   "cell_type": "code",
   "execution_count": null,
   "metadata": {},
   "outputs": [],
   "source": [
    "Shotlog_1415[\"lag_shot_hit\"]=Shotlog_1415.sort_values(by=['shot_number'], ascending=[True]).groupby(['shoot_player', 'date'])['current_shot_outcome'].shift(1)\n",
    "Shotlog_1415['lag_shot_hit'].head(20)"
   ]
  },
  {
   "cell_type": "code",
   "execution_count": null,
   "metadata": {},
   "outputs": [],
   "source": [
    "Shotlog_1415.sort_values(by=['shoot_player', 'game_id', 'shot_number'], ascending=[True, True, True])"
   ]
  },
  {
   "cell_type": "code",
   "execution_count": null,
   "metadata": {},
   "outputs": [],
   "source": [
    "Shotlog_1415[\"error\"]=Shotlog_1415['current_shot_outcome']-Shotlog_1415['average_hit']\n",
    "Shotlog_1415[\"lagerror\"]=Shotlog_1415['lag_shot_hit']-Shotlog_1415['average_hit']\n",
    "Shotlog_1415.head(10)\n"
   ]
  },
  {
   "cell_type": "code",
   "execution_count": null,
   "metadata": {},
   "outputs": [],
   "source": [
    "\n",
    "Shotlog_1415['error'].describe()"
   ]
  },
  {
   "cell_type": "code",
   "execution_count": null,
   "metadata": {},
   "outputs": [],
   "source": [
    "Shotlog_1415['lagerror'].describe()"
   ]
  },
  {
   "cell_type": "markdown",
   "metadata": {},
   "source": [
    "## Part 2 - Conditional Probability and Autocorrelation"
   ]
  },
  {
   "cell_type": "code",
   "execution_count": null,
   "metadata": {},
   "outputs": [],
   "source": [
    "Shotlog_1415=Shotlog_1415[pd.notnull(Shotlog_1415[\"lag_shot_hit\"])]\n",
    "Shotlog_1415['conse_shot']=np.where((Shotlog_1415['current_shot_outcome']==1)&(Shotlog_1415['lag_shot_hit']==1),1,0)\n",
    "Shotlog_1415['conse_shot']"
   ]
  },
  {
   "cell_type": "code",
   "execution_count": null,
   "metadata": {},
   "outputs": [],
   "source": [
    "Player_Prob=Shotlog_1415.groupby(['shoot_player'])['conse_shot','lag_shot_hit'].mean()\n",
    "Player_Prob=Player_Prob.reset_index()\n",
    "Player_Prob.rename(columns={'lag_shot_hit':'average_lag_hit', 'conse_shot':'conse_shot_hit'}, inplace=True)\n",
    "Player_Prob.head()"
   ]
  },
  {
   "cell_type": "code",
   "execution_count": null,
   "metadata": {},
   "outputs": [],
   "source": [
    "Player_Prob['conditional_prob']=Player_Prob['conse_shot_hit']/Player_Prob['average_lag_hit']\n"
   ]
  },
  {
   "cell_type": "code",
   "execution_count": null,
   "metadata": {},
   "outputs": [],
   "source": [
    "Player_Stats=pd.merge(Player_Prob, Player_Stats, on=['shoot_player'])\n",
    "Player_Stats=Player_Stats[pd.notnull(Player_Stats[\"conditional_prob\"])]\n",
    "Player_Stats.head(10)"
   ]
  },
  {
   "cell_type": "code",
   "execution_count": null,
   "metadata": {},
   "outputs": [],
   "source": [
    "Player_Stats['diff_prob']=Player_Stats['conditional_prob']-Player_Stats['average_hit']\n",
    "Player_Stats['diff_prob'].describe()"
   ]
  },
  {
   "cell_type": "code",
   "execution_count": null,
   "metadata": {},
   "outputs": [],
   "source": [
    "Player_Stats['average_hit'].describe()"
   ]
  },
  {
   "cell_type": "code",
   "execution_count": null,
   "metadata": {},
   "outputs": [],
   "source": [
    "Player_Stats['conditional_prob'].describe()"
   ]
  },
  {
   "cell_type": "code",
   "execution_count": null,
   "metadata": {},
   "outputs": [],
   "source": [
    "Player_Stats['conse_shot_hit'].describe()"
   ]
  },
  {
   "cell_type": "code",
   "execution_count": null,
   "metadata": {},
   "outputs": [],
   "source": [
    "import scipy.stats as sp\n",
    "sp.stats.ttest_ind(Player_Stats['conditional_prob'], Player_Stats['average_hit'])"
   ]
  },
  {
   "cell_type": "code",
   "execution_count": null,
   "metadata": {},
   "outputs": [],
   "source": [
    "Shotlog_1415['current_shot_hit'].corr(Shotlog_1415['lag_shot_hit'])"
   ]
  },
  {
   "cell_type": "code",
   "execution_count": null,
   "metadata": {},
   "outputs": [],
   "source": [
    "Autocorr_Hit=Shotlog_1415.groupby('shoot_player')[['current_shot_hit','lag_shot_hit']].corr().unstack().iloc[:,1].reset_index()\n",
    "Autocorr_Hit.columns=Autocorr_Hit.columns.get_level_values(0)\n",
    "Autocorr_Hit.rename(columns={'current_shot_hit':'autocorr'}, inplace=True)\n",
    "Autocorr_Hit.sort_values(by=['autocorr'], ascending=[False])\n"
   ]
  },
  {
   "cell_type": "markdown",
   "metadata": {},
   "source": [
    "## Part 3 - Regression Analyses"
   ]
  },
  {
   "cell_type": "code",
   "execution_count": null,
   "metadata": {},
   "outputs": [],
   "source": [
    "Reg1 = sm.ols(formula = 'error ~ lagerror+shot_dist+dribbles+touch_time+points_earned+C(quarter)+home_away+C(shoot_player)+C(closest_defender)+closest_def_dist', data= Shotlog_1415).fit()\n",
    "print(Reg1.summary())\n"
   ]
  },
  {
   "cell_type": "code",
   "execution_count": null,
   "metadata": {},
   "outputs": [],
   "source": [
    "Reg2 = sm.ols(formula = 'error ~ lagerror+shot_dist+dribbles+touch_time+points_earned+C(quarter)+home_away+C(shoot_player)+C(closest_defender)+closest_def_dist', weights=1/Shotlog_1415['shot_per_game'] ,data= Shotlog_1415).fit()\n",
    "print(Reg2.summary())"
   ]
  },
  {
   "cell_type": "code",
   "execution_count": null,
   "metadata": {},
   "outputs": [],
   "source": []
  },
  {
   "cell_type": "code",
   "execution_count": null,
   "metadata": {},
   "outputs": [],
   "source": [
    "def reg_player(player):\n",
    "    Shotlog_player=Shotlog_1415[Shotlog_1415.shoot_player==player]\n",
    "    reg_player=sm.ols(formula = 'error ~ lagerror+shot_dist+dribbles+touch_time+points_earned+C(quarter)+home_away+closest_def_dist', data= Shotlog_player).fit()\n",
    "    print(reg_player.summary())\n",
    "    return; \n",
    "def reg_wls_player(player):\n",
    "    Shotlog_player=Shotlog_1415[Shotlog.shoot_player==player]\n",
    "    reg_wls_player=sm.wls(formula = 'error ~ lagerror+shot_dist+dribbles+touch_time+points_earned+C(quarter)+home_away+closest_def_dist',weights=1/Shotlog_player['shot_per_game'] , data= Shotlog_player).fit()\n",
    "    print(reg_wls_player.summary())\n",
    "    return; "
   ]
  },
  {
   "cell_type": "code",
   "execution_count": null,
   "metadata": {},
   "outputs": [],
   "source": [
    "Reg3_player('Russell Westrbrook')\n",
    "Reg4_wls_player('Kobe Bryant')"
   ]
  },
  {
   "cell_type": "code",
   "execution_count": null,
   "metadata": {},
   "outputs": [],
   "source": []
  }
 ],
 "metadata": {
  "kernelspec": {
   "display_name": "Python 3",
   "language": "python",
   "name": "python3"
  },
  "language_info": {
   "codemirror_mode": {
    "name": "ipython",
    "version": 3
   },
   "file_extension": ".py",
   "mimetype": "text/x-python",
   "name": "python",
   "nbconvert_exporter": "python",
   "pygments_lexer": "ipython3",
   "version": "3.6.7"
  }
 },
 "nbformat": 4,
 "nbformat_minor": 2
}
